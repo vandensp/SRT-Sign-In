{
 "cells": [
  {
   "cell_type": "code",
   "execution_count": 1,
   "id": "a1d32e3b",
   "metadata": {},
   "outputs": [],
   "source": [
    "import serial\n",
    "import datetime\n",
    "import time\n",
    "import serial.tools.list_ports\n",
    "import pandas as pd"
   ]
  },
  {
   "cell_type": "code",
   "execution_count": 2,
   "id": "92e7cf85",
   "metadata": {},
   "outputs": [
    {
     "data": {
      "text/html": [
       "<div>\n",
       "<style scoped>\n",
       "    .dataframe tbody tr th:only-of-type {\n",
       "        vertical-align: middle;\n",
       "    }\n",
       "\n",
       "    .dataframe tbody tr th {\n",
       "        vertical-align: top;\n",
       "    }\n",
       "\n",
       "    .dataframe thead th {\n",
       "        text-align: right;\n",
       "    }\n",
       "</style>\n",
       "<table border=\"1\" class=\"dataframe\">\n",
       "  <thead>\n",
       "    <tr style=\"text-align: right;\">\n",
       "      <th></th>\n",
       "      <th>studentID</th>\n",
       "      <th>name</th>\n",
       "      <th>major</th>\n",
       "      <th>Sign-in Time</th>\n",
       "      <th>Sign-out Time</th>\n",
       "      <th>signingIn</th>\n",
       "    </tr>\n",
       "  </thead>\n",
       "  <tbody>\n",
       "    <tr>\n",
       "      <th>0</th>\n",
       "      <td>801606786</td>\n",
       "      <td>Samuel VanDenburgh</td>\n",
       "      <td>MECE</td>\n",
       "      <td>0</td>\n",
       "      <td>0</td>\n",
       "      <td>True</td>\n",
       "    </tr>\n",
       "    <tr>\n",
       "      <th>1</th>\n",
       "      <td>801735307</td>\n",
       "      <td>Noah Clippinger</td>\n",
       "      <td>Computer Engineering</td>\n",
       "      <td>0</td>\n",
       "      <td>0</td>\n",
       "      <td>True</td>\n",
       "    </tr>\n",
       "    <tr>\n",
       "      <th>2</th>\n",
       "      <td>801675087</td>\n",
       "      <td>Donald Hau</td>\n",
       "      <td>Electrical Engineering</td>\n",
       "      <td>0</td>\n",
       "      <td>0</td>\n",
       "      <td>True</td>\n",
       "    </tr>\n",
       "  </tbody>\n",
       "</table>\n",
       "</div>"
      ],
      "text/plain": [
       "   studentID                name                   major  Sign-in Time   \n",
       "0  801606786  Samuel VanDenburgh                    MECE             0  \\\n",
       "1  801735307     Noah Clippinger    Computer Engineering             0   \n",
       "2  801675087          Donald Hau  Electrical Engineering             0   \n",
       "\n",
       "   Sign-out Time  signingIn  \n",
       "0              0       True  \n",
       "1              0       True  \n",
       "2              0       True  "
      ]
     },
     "execution_count": 2,
     "metadata": {},
     "output_type": "execute_result"
    }
   ],
   "source": [
    "studentRecord = pd.read_csv(\"studentRecords.csv\")\n",
    "visitHistory = dict({\"studentID\":[], \"name\":[],\"major\":[],\"Sign-in Time\":[],\"Sign-out Time\":[]})\n",
    "roomStatus = dict({\"Students In\":[]})\n",
    "historyDF = pd.DataFrame()\n",
    "studentRecord.head()"
   ]
  },
  {
   "cell_type": "code",
   "execution_count": 3,
   "id": "cad07ab1",
   "metadata": {},
   "outputs": [
    {
     "name": "stdout",
     "output_type": "stream",
     "text": [
      "USB Serial Device (COM5)\n",
      "Barcode Scanner connected at: COM5\n",
      "USB Serial Device (COM6)\n",
      "Barcode Scanner connected at: COM6\n"
     ]
    }
   ],
   "source": [
    "comlist = serial.tools.list_ports.comports() #finds barcode port and opens it\n",
    "connected = []\n",
    "ser = None\n",
    "for element in comlist:\n",
    "    connected.append(element.device)\n",
    "    print(element.description)\n",
    "    if (\"barcode scanner\" in element.description) or (\"USB Serial Device\" in element.description):\n",
    "        ser = serial.Serial(element.device,timeout=5)\n",
    "        print(\"Barcode Scanner connected at:\", ser.name)\n",
    "\n",
    "if ser == None:\n",
    "    exit(0)"
   ]
  },
  {
   "cell_type": "code",
   "execution_count": 4,
   "id": "bd0226b9",
   "metadata": {},
   "outputs": [],
   "source": [
    "def storeVisit(student): #Keeps a list of all recorded scans\n",
    "        visitHistory[\"studentID\"].append(student[\"studentID\"])\n",
    "        visitHistory[\"name\"].append(student[\"name\"])\n",
    "        visitHistory[\"major\"].append(student[\"major\"])\n",
    "        visitHistory[\"Sign-in Time\"].append(student[\"Sign-in Time\"])\n",
    "        visitHistory[\"Sign-out Time\"].append(student[\"Sign-out Time\"]) #store values into JSON"
   ]
  },
  {
   "cell_type": "code",
   "execution_count": 5,
   "id": "8325fb2a",
   "metadata": {},
   "outputs": [],
   "source": [
    "def signingIn(student): #Keeps a list of all recorded scans\n",
    "        #edit students scan status and time\n",
    "        student[\"Sign-in Time\"] = datetime.datetime.now().time()\n",
    "        student['signingIn'] = \"False\"\n",
    "        print(\"Student Signed In!\")"
   ]
  },
  {
   "cell_type": "code",
   "execution_count": 6,
   "id": "4b3af912",
   "metadata": {},
   "outputs": [],
   "source": [
    "def signingOut(student): #Keeps a list of all recorded scans\n",
    "        #edit students scan status and histoyr\n",
    "        student[\"Sign-out Time\"] = datetime.datetime.now().time()\n",
    "        #record visit\n",
    "        student['signingIn'] = \"True\"\n",
    "        print(\"Student Signed Out :(\")"
   ]
  },
  {
   "cell_type": "code",
   "execution_count": 7,
   "id": "e923e6bc",
   "metadata": {},
   "outputs": [],
   "source": [
    "def getStudent(line):\n",
    "    #find student with matching ID\n",
    "    for student in studentRecord:\n",
    "        if student[\"studentID\"] == line:\n",
    "            return student\n",
    "        else:\n",
    "            print(\"Student Not Found\")"
   ]
  },
  {
   "cell_type": "code",
   "execution_count": 8,
   "id": "c40f3f41",
   "metadata": {
    "scrolled": false
   },
   "outputs": [
    {
     "name": "stdout",
     "output_type": "stream",
     "text": [
      "801606786\n",
      "   studentID                name major  Sign-in Time  Sign-out Time  signingIn\n",
      "0  801606786  Samuel VanDenburgh  MECE             0              0       True\n",
      "\n",
      " Student Scanned:\n",
      " Name:  0    Samuel VanDenburgh\n",
      "Name: name, dtype: object \n",
      "\n",
      "\n",
      "Student Signed Out :(\n"
     ]
    },
    {
     "name": "stderr",
     "output_type": "stream",
     "text": [
      "C:\\Users\\haudj\\AppData\\Local\\Temp\\ipykernel_17824\\3876710155.py:3: SettingWithCopyWarning: \n",
      "A value is trying to be set on a copy of a slice from a DataFrame.\n",
      "Try using .loc[row_indexer,col_indexer] = value instead\n",
      "\n",
      "See the caveats in the documentation: https://pandas.pydata.org/pandas-docs/stable/user_guide/indexing.html#returning-a-view-versus-a-copy\n",
      "  student[\"Sign-out Time\"] = datetime.datetime.now().time()\n",
      "C:\\Users\\haudj\\AppData\\Local\\Temp\\ipykernel_17824\\3876710155.py:5: SettingWithCopyWarning: \n",
      "A value is trying to be set on a copy of a slice from a DataFrame.\n",
      "Try using .loc[row_indexer,col_indexer] = value instead\n",
      "\n",
      "See the caveats in the documentation: https://pandas.pydata.org/pandas-docs/stable/user_guide/indexing.html#returning-a-view-versus-a-copy\n",
      "  student['signingIn'] = \"True\"\n"
     ]
    },
    {
     "name": "stdout",
     "output_type": "stream",
     "text": [
      "801675087\n",
      "   studentID        name                   major  Sign-in Time  Sign-out Time   \n",
      "2  801675087  Donald Hau  Electrical Engineering             0              0  \\\n",
      "\n",
      "   signingIn  \n",
      "2       True  \n",
      "\n",
      " Student Scanned:\n",
      " Name:  2    Donald Hau\n",
      "Name: name, dtype: object \n",
      "\n",
      "\n",
      "Student Signed Out :(\n"
     ]
    },
    {
     "name": "stderr",
     "output_type": "stream",
     "text": [
      "C:\\Users\\haudj\\AppData\\Local\\Temp\\ipykernel_17824\\3876710155.py:3: SettingWithCopyWarning: \n",
      "A value is trying to be set on a copy of a slice from a DataFrame.\n",
      "Try using .loc[row_indexer,col_indexer] = value instead\n",
      "\n",
      "See the caveats in the documentation: https://pandas.pydata.org/pandas-docs/stable/user_guide/indexing.html#returning-a-view-versus-a-copy\n",
      "  student[\"Sign-out Time\"] = datetime.datetime.now().time()\n",
      "C:\\Users\\haudj\\AppData\\Local\\Temp\\ipykernel_17824\\3876710155.py:5: SettingWithCopyWarning: \n",
      "A value is trying to be set on a copy of a slice from a DataFrame.\n",
      "Try using .loc[row_indexer,col_indexer] = value instead\n",
      "\n",
      "See the caveats in the documentation: https://pandas.pydata.org/pandas-docs/stable/user_guide/indexing.html#returning-a-view-versus-a-copy\n",
      "  student['signingIn'] = \"True\"\n"
     ]
    }
   ],
   "source": [
    "lasttime = time.time()\n",
    "last_id = None\n",
    "try:\n",
    "    while True: #checks for new input from barcode and updates dataframe\n",
    "        line = ser.readline()\n",
    "        if len(line) > 3:\n",
    "            line = line.decode('utf-8',errors='ignore').rstrip('/r/n')\n",
    "            try:\n",
    "                line = int(line)\n",
    "                print(line)\n",
    "                if last_id != line:\n",
    "                    student = studentRecord.loc[studentRecord['studentID'] == line]\n",
    "                    print(student)\n",
    "                    ser.flush()\n",
    "                    print(\"\\n Student Scanned:\\n Name: \",student.name,\"\\n\\n\")\n",
    "                    if str(student['signingIn']) == \"True\": #If student is signing in\n",
    "                        signingIn(student)\n",
    "                    else: #If student is signing out\n",
    "                        signingOut(student)\n",
    "                        storeVisit(student)\n",
    "                    #If time is pass hours\n",
    "                    #    for student in Students\n",
    "                    last_id = line\n",
    "                else: \n",
    "                    print(\"double scanned\")\n",
    "            except ValueError:\n",
    "                print(\"not an int value, was:\", line)\n",
    "        if time.time()-lasttime > 5: \n",
    "            last_id = None\n",
    "            lasttime = time.time()\n",
    "except KeyboardInterrupt:\n",
    "    ser.close()"
   ]
  },
  {
   "cell_type": "code",
   "execution_count": null,
   "id": "bc7486db",
   "metadata": {},
   "outputs": [],
   "source": []
  }
 ],
 "metadata": {
  "kernelspec": {
   "display_name": "Python 3 (ipykernel)",
   "language": "python",
   "name": "python3"
  },
  "language_info": {
   "codemirror_mode": {
    "name": "ipython",
    "version": 3
   },
   "file_extension": ".py",
   "mimetype": "text/x-python",
   "name": "python",
   "nbconvert_exporter": "python",
   "pygments_lexer": "ipython3",
   "version": "3.11.3"
  }
 },
 "nbformat": 4,
 "nbformat_minor": 5
}

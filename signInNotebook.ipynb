{
 "cells": [
  {
   "cell_type": "code",
   "execution_count": 1,
   "id": "a1d32e3b",
   "metadata": {},
   "outputs": [],
   "source": [
    "import serial\n",
    "import datetime\n",
    "import serial.tools.list_ports\n",
    "import pandas as pd"
   ]
  },
  {
   "cell_type": "code",
   "execution_count": 2,
   "id": "92e7cf85",
   "metadata": {},
   "outputs": [
    {
     "data": {
      "text/html": [
       "<div>\n",
       "<style scoped>\n",
       "    .dataframe tbody tr th:only-of-type {\n",
       "        vertical-align: middle;\n",
       "    }\n",
       "\n",
       "    .dataframe tbody tr th {\n",
       "        vertical-align: top;\n",
       "    }\n",
       "\n",
       "    .dataframe thead th {\n",
       "        text-align: right;\n",
       "    }\n",
       "</style>\n",
       "<table border=\"1\" class=\"dataframe\">\n",
       "  <thead>\n",
       "    <tr style=\"text-align: right;\">\n",
       "      <th></th>\n",
       "      <th>studentID</th>\n",
       "      <th>name</th>\n",
       "      <th>major</th>\n",
       "      <th>Sign-in Time</th>\n",
       "      <th>Sign-out Time</th>\n",
       "      <th>signingIn</th>\n",
       "    </tr>\n",
       "  </thead>\n",
       "  <tbody>\n",
       "    <tr>\n",
       "      <th>0</th>\n",
       "      <td>801606786</td>\n",
       "      <td>Samuel VanDenburgh</td>\n",
       "      <td>MECE</td>\n",
       "      <td>0</td>\n",
       "      <td>0</td>\n",
       "      <td>True</td>\n",
       "    </tr>\n",
       "    <tr>\n",
       "      <th>1</th>\n",
       "      <td>801735307</td>\n",
       "      <td>Noah Clippinger</td>\n",
       "      <td>Computer Engineering</td>\n",
       "      <td>0</td>\n",
       "      <td>0</td>\n",
       "      <td>True</td>\n",
       "    </tr>\n",
       "  </tbody>\n",
       "</table>\n",
       "</div>"
      ],
      "text/plain": [
       "   studentID                name                 major  Sign-in Time  \\\n",
       "0  801606786  Samuel VanDenburgh                  MECE             0   \n",
       "1  801735307     Noah Clippinger  Computer Engineering             0   \n",
       "\n",
       "   Sign-out Time  signingIn  \n",
       "0              0       True  \n",
       "1              0       True  "
      ]
     },
     "execution_count": 2,
     "metadata": {},
     "output_type": "execute_result"
    }
   ],
   "source": [
    "studentRecord = pd.read_csv(\"studentRecords.csv\")\n",
    "visitHistory = dict({\"studentID\":[], \"name\":[],\"major\":[],\"Sign-in Time\":[],\"Sign-out Time\":[]})\n",
    "roomStatus = dict({\"Students In\":[]})\n",
    "historyDF = pd.DataFrame()\n",
    "studentRecord.head()"
   ]
  },
  {
   "cell_type": "code",
   "execution_count": 3,
   "id": "cad07ab1",
   "metadata": {},
   "outputs": [
    {
     "name": "stdout",
     "output_type": "stream",
     "text": [
      "Barcode Scanner connected at: /dev/ttyACM1\n"
     ]
    }
   ],
   "source": [
    "comlist = serial.tools.list_ports.comports() #finds barcode port and opens it\n",
    "connected = []\n",
    "for element in comlist:\n",
    "    connected.append(element.device)\n",
    "    if element.description == \"barcode scanner\":\n",
    "        ser = serial.Serial(element.device)\n",
    "    print(\"Barcode Scanner connected at:\", ser.name)"
   ]
  },
  {
   "cell_type": "code",
   "execution_count": 4,
   "id": "bd0226b9",
   "metadata": {},
   "outputs": [],
   "source": [
    "def storeVisit(student): #Keeps a list of all recorded scans\n",
    "        visitHistory[\"studentID\"].append(student[\"studentID\"])\n",
    "        visitHistory[\"name\"].append(student[\"name\"])\n",
    "        visitHistory[\"major\"].append(student[\"major\"])\n",
    "        visitHistory[\"Sign-in Time\"].append(student[\"Sign-in Time\"])\n",
    "        visitHistory[\"Sign-out Time\"].append(student[\"Sign-out Time\"]) #store values into JSON"
   ]
  },
  {
   "cell_type": "code",
   "execution_count": 5,
   "id": "8325fb2a",
   "metadata": {},
   "outputs": [],
   "source": [
    "def signingIn(student): #Keeps a list of all recorded scans\n",
    "        #edit students scan status and time\n",
    "        student[\"Sign-in Time\"] = datetime.datetime.now().time()\n",
    "        student['signingIn'] = \"False\"\n",
    "        print(\"Student Signed In!\")"
   ]
  },
  {
   "cell_type": "code",
   "execution_count": 6,
   "id": "4b3af912",
   "metadata": {},
   "outputs": [],
   "source": [
    "def signingOut(student): #Keeps a list of all recorded scans\n",
    "        #edit students scan status and histoyr\n",
    "        student[\"Sign-out Time\"] = datetime.datetime.now().time()\n",
    "        #record visit\n",
    "        student['signingIn'] = \"True\"\n",
    "        print(\"Student Signed Out :(\")"
   ]
  },
  {
   "cell_type": "code",
   "execution_count": 7,
   "id": "e923e6bc",
   "metadata": {},
   "outputs": [],
   "source": [
    "def getStudent(line):\n",
    "    #find student with matching ID\n",
    "    for student in studentRecord:\n",
    "        if student[\"studentID\"] == line:\n",
    "            return student\n",
    "        else:\n",
    "            print(\"Student Not Found\")"
   ]
  },
  {
   "cell_type": "code",
   "execution_count": 8,
   "id": "c40f3f41",
   "metadata": {
    "scrolled": false
   },
   "outputs": [
    {
     "name": "stdout",
     "output_type": "stream",
     "text": [
      "line:  b'801606786\\r\\n'\n",
      "\n",
      "\n",
      "Name 0    Samuel VanDenburgh\n",
      "Name: name, dtype: object \n",
      "\n",
      "\n",
      "Student Signed Out :(\n"
     ]
    },
    {
     "name": "stderr",
     "output_type": "stream",
     "text": [
      "/tmp/ipykernel_59086/3876710155.py:3: SettingWithCopyWarning: \n",
      "A value is trying to be set on a copy of a slice from a DataFrame.\n",
      "Try using .loc[row_indexer,col_indexer] = value instead\n",
      "\n",
      "See the caveats in the documentation: https://pandas.pydata.org/pandas-docs/stable/user_guide/indexing.html#returning-a-view-versus-a-copy\n",
      "  student[\"Sign-out Time\"] = datetime.datetime.now().time()\n",
      "/tmp/ipykernel_59086/3876710155.py:5: SettingWithCopyWarning: \n",
      "A value is trying to be set on a copy of a slice from a DataFrame.\n",
      "Try using .loc[row_indexer,col_indexer] = value instead\n",
      "\n",
      "See the caveats in the documentation: https://pandas.pydata.org/pandas-docs/stable/user_guide/indexing.html#returning-a-view-versus-a-copy\n",
      "  student['signingIn'] = \"True\"\n"
     ]
    },
    {
     "ename": "SerialException",
     "evalue": "device reports readiness to read but returned no data (device disconnected or multiple access on port?)",
     "output_type": "error",
     "traceback": [
      "\u001b[0;31m---------------------------------------------------------------------------\u001b[0m",
      "\u001b[0;31mSerialException\u001b[0m                           Traceback (most recent call last)",
      "\u001b[0;32m/tmp/ipykernel_59086/687683342.py\u001b[0m in \u001b[0;36m<module>\u001b[0;34m\u001b[0m\n\u001b[1;32m      1\u001b[0m \u001b[0;32mwhile\u001b[0m \u001b[0;32mTrue\u001b[0m\u001b[0;34m:\u001b[0m \u001b[0;31m#checks for new input from barcode and updates dataframe\u001b[0m\u001b[0;34m\u001b[0m\u001b[0;34m\u001b[0m\u001b[0m\n\u001b[0;32m----> 2\u001b[0;31m     \u001b[0mline\u001b[0m \u001b[0;34m=\u001b[0m \u001b[0mser\u001b[0m\u001b[0;34m.\u001b[0m\u001b[0mreadline\u001b[0m\u001b[0;34m(\u001b[0m\u001b[0;34m)\u001b[0m\u001b[0;34m\u001b[0m\u001b[0;34m\u001b[0m\u001b[0m\n\u001b[0m\u001b[1;32m      3\u001b[0m     \u001b[0mprint\u001b[0m\u001b[0;34m(\u001b[0m\u001b[0;34m\"line: \"\u001b[0m\u001b[0;34m,\u001b[0m \u001b[0mline\u001b[0m\u001b[0;34m)\u001b[0m\u001b[0;34m\u001b[0m\u001b[0;34m\u001b[0m\u001b[0m\n\u001b[1;32m      4\u001b[0m     \u001b[0mline\u001b[0m \u001b[0;34m=\u001b[0m \u001b[0mline\u001b[0m\u001b[0;34m.\u001b[0m\u001b[0mdecode\u001b[0m\u001b[0;34m(\u001b[0m\u001b[0;34m'utf-8'\u001b[0m\u001b[0;34m,\u001b[0m\u001b[0merrors\u001b[0m\u001b[0;34m=\u001b[0m\u001b[0;34m'ignore'\u001b[0m\u001b[0;34m)\u001b[0m\u001b[0;34m.\u001b[0m\u001b[0mrstrip\u001b[0m\u001b[0;34m(\u001b[0m\u001b[0;34m'/r/n'\u001b[0m\u001b[0;34m)\u001b[0m\u001b[0;34m\u001b[0m\u001b[0;34m\u001b[0m\u001b[0m\n\u001b[1;32m      5\u001b[0m     \u001b[0mline\u001b[0m \u001b[0;34m=\u001b[0m \u001b[0mint\u001b[0m\u001b[0;34m(\u001b[0m\u001b[0mline\u001b[0m\u001b[0;34m)\u001b[0m\u001b[0;34m\u001b[0m\u001b[0;34m\u001b[0m\u001b[0m\n",
      "\u001b[0;32m~/anaconda3/lib/python3.9/site-packages/serial/serialposix.py\u001b[0m in \u001b[0;36mread\u001b[0;34m(self, size)\u001b[0m\n\u001b[1;32m    593\u001b[0m                     \u001b[0;31m# behavior that they are always ready to read immediately\u001b[0m\u001b[0;34m\u001b[0m\u001b[0;34m\u001b[0m\u001b[0m\n\u001b[1;32m    594\u001b[0m                     \u001b[0;31m# but reading returns nothing.\u001b[0m\u001b[0;34m\u001b[0m\u001b[0;34m\u001b[0m\u001b[0m\n\u001b[0;32m--> 595\u001b[0;31m                     raise SerialException(\n\u001b[0m\u001b[1;32m    596\u001b[0m                         \u001b[0;34m'device reports readiness to read but returned no data '\u001b[0m\u001b[0;34m\u001b[0m\u001b[0;34m\u001b[0m\u001b[0m\n\u001b[1;32m    597\u001b[0m                         '(device disconnected or multiple access on port?)')\n",
      "\u001b[0;31mSerialException\u001b[0m: device reports readiness to read but returned no data (device disconnected or multiple access on port?)"
     ]
    }
   ],
   "source": [
    "while True: #checks for new input from barcode and updates dataframe\n",
    "    line = ser.readline()\n",
    "    print(\"line: \", line)\n",
    "    line = line.decode('utf-8',errors='ignore').rstrip('/r/n')\n",
    "    line = int(line)\n",
    "    student = studentRecord.loc[studentRecord['studentID'] == line]\n",
    "    ser.flush()\n",
    "    print(\"\\n\\nName\",student.name,\"\\n\\n\")\n",
    "    if str(student['signingIn']) == \"True\": #If student is signing in\n",
    "        signingIn(student)\n",
    "    else: #If student is signing out\n",
    "        signingOut(student)\n",
    "        storeVisit(student)\n",
    "    #If time is pass hours\n",
    "    #    for student in Students"
   ]
  }
 ],
 "metadata": {
  "kernelspec": {
   "display_name": "Python 3 (ipykernel)",
   "language": "python",
   "name": "python3"
  },
  "language_info": {
   "codemirror_mode": {
    "name": "ipython",
    "version": 3
   },
   "file_extension": ".py",
   "mimetype": "text/x-python",
   "name": "python",
   "nbconvert_exporter": "python",
   "pygments_lexer": "ipython3",
   "version": "3.9.13"
  }
 },
 "nbformat": 4,
 "nbformat_minor": 5
}

{
 "cells": [
  {
   "cell_type": "code",
   "execution_count": 12,
   "id": "a1d32e3b",
   "metadata": {},
   "outputs": [
    {
     "name": "stdout",
     "output_type": "stream",
     "text": [
      "12:35:13.993519\n"
     ]
    }
   ],
   "source": [
    "import serial\n",
    "import datetime\n",
    "import serial.tools.list_ports"
   ]
  },
  {
   "cell_type": "code",
   "execution_count": 2,
   "id": "92e7cf85",
   "metadata": {},
   "outputs": [],
   "source": [
    "visitHistory = dict({\"studentID\":[], \"name\":[],\"major\":[],\"Sign-in Time\":[],\"Sign-out Time\":[]})\n",
    "roomStatus = dict({\"Studnets In\":[]})"
   ]
  },
  {
   "cell_type": "code",
   "execution_count": 3,
   "id": "cad07ab1",
   "metadata": {},
   "outputs": [],
   "source": [
    "comlist = serial.tools.list_ports.comports() #finds barcode port and opens it\n",
    "connected = []\n",
    "for element in comlist:\n",
    "    connected.append(element.device)\n",
    "    if element.description == \"barcode scanner\":\n",
    "        ser = serial.Serial(element.device)\n",
    "    print(\"Barcode Scanner connected at:\", ser.name)"
   ]
  },
  {
   "cell_type": "code",
   "execution_count": 4,
   "id": "bd0226b9",
   "metadata": {},
   "outputs": [],
   "source": [
    "def storeVisit(student): #Keeps a list of all recorded scans\n",
    "        visitHistory[\"studentID\"].append(student.id)\n",
    "        visitHistory[\"name\"].append(student.name)\n",
    "        visitHistory[\"major\"].apppend(student.major)\n",
    "        visitHistory[\"Sign-in Time \"].append(student.inTime)\n",
    "        visitHistory[\"Sign-out Time \"].append(student.outTime)"
   ]
  },
  {
   "cell_type": "code",
   "execution_count": null,
   "id": "8325fb2a",
   "metadata": {},
   "outputs": [],
   "source": [
    "def signingIn(student): #Keeps a list of all recorded scans\n",
    "        #edit students scan status and time\n",
    "        student.inTime = datetime.datetime.now().time()"
   ]
  },
  {
   "cell_type": "code",
   "execution_count": null,
   "id": "4b3af912",
   "metadata": {},
   "outputs": [],
   "source": [
    "def signingOut(student): #Keeps a list of all recorded scans\n",
    "        #edit students scan status and histoyr\n",
    "        student.outTime = datetime.datetime.now().time()\n",
    "        #record visit\n",
    "        storeVisit(student)"
   ]
  },
  {
   "cell_type": "code",
   "execution_count": 14,
   "id": "e923e6bc",
   "metadata": {},
   "outputs": [],
   "source": [
    "def getStudent(line):\n",
    "    #find student with matching ID\n",
    "    for student in students:\n",
    "        if student.id == line:\n",
    "            return student\n",
    "        else:\n",
    "            print(\"Student Not Found\")"
   ]
  },
  {
   "cell_type": "code",
   "execution_count": 6,
   "id": "c40f3f41",
   "metadata": {},
   "outputs": [
    {
     "ename": "NameError",
     "evalue": "name 'ser' is not defined",
     "output_type": "error",
     "traceback": [
      "\u001b[0;31m---------------------------------------------------------------------------\u001b[0m",
      "\u001b[0;31mNameError\u001b[0m                                 Traceback (most recent call last)",
      "\u001b[0;32m/tmp/ipykernel_16239/4177354524.py\u001b[0m in \u001b[0;36m<module>\u001b[0;34m\u001b[0m\n\u001b[1;32m      1\u001b[0m \u001b[0;32mwhile\u001b[0m \u001b[0;32mTrue\u001b[0m\u001b[0;34m:\u001b[0m \u001b[0;31m#checks for new input from barcode and updates dataframe\u001b[0m\u001b[0;34m\u001b[0m\u001b[0;34m\u001b[0m\u001b[0m\n\u001b[0;32m----> 2\u001b[0;31m     \u001b[0mline\u001b[0m \u001b[0;34m=\u001b[0m \u001b[0mser\u001b[0m\u001b[0;34m.\u001b[0m\u001b[0mreadline\u001b[0m\u001b[0;34m(\u001b[0m\u001b[0;34m)\u001b[0m\u001b[0;34m\u001b[0m\u001b[0;34m\u001b[0m\u001b[0m\n\u001b[0m\u001b[1;32m      3\u001b[0m     \u001b[0mline\u001b[0m \u001b[0;34m=\u001b[0m \u001b[0mline\u001b[0m\u001b[0;34m.\u001b[0m\u001b[0mdecode\u001b[0m\u001b[0;34m(\u001b[0m\u001b[0;34m'utf-8'\u001b[0m\u001b[0;34m,\u001b[0m\u001b[0merrors\u001b[0m\u001b[0;34m=\u001b[0m\u001b[0;34m'ignore'\u001b[0m\u001b[0;34m)\u001b[0m\u001b[0;34m.\u001b[0m\u001b[0mrstrip\u001b[0m\u001b[0;34m(\u001b[0m\u001b[0;34m'/r/n'\u001b[0m\u001b[0;34m)\u001b[0m\u001b[0;34m\u001b[0m\u001b[0;34m\u001b[0m\u001b[0m\n\u001b[1;32m      4\u001b[0m     \u001b[0mline\u001b[0m \u001b[0;34m=\u001b[0m \u001b[0mint\u001b[0m\u001b[0;34m(\u001b[0m\u001b[0mline\u001b[0m\u001b[0;34m)\u001b[0m\u001b[0;34m\u001b[0m\u001b[0;34m\u001b[0m\u001b[0m\n\u001b[1;32m      5\u001b[0m     \u001b[0mstoreScan\u001b[0m\u001b[0;34m(\u001b[0m\u001b[0mline\u001b[0m\u001b[0;34m)\u001b[0m\u001b[0;34m\u001b[0m\u001b[0;34m\u001b[0m\u001b[0m\n",
      "\u001b[0;31mNameError\u001b[0m: name 'ser' is not defined"
     ]
    }
   ],
   "source": [
    "while True: #checks for new input from barcode and updates dataframe\n",
    "    line = ser.readline()\n",
    "    line = line.decode('utf-8',errors='ignore').rstrip('/r/n')\n",
    "    line = int(line)\n",
    "    student = getStudent(line)\n",
    "    if student.signingIn: #If student is signing in\n",
    "        addSignIn(student)\n",
    "        student.signingIn = False\n",
    "    else: #If student is signing out\n",
    "        addSignOut(student)\n",
    "        student.signingIn = True\n",
    "    #If time is pass hours\n",
    "        for student in Students"
   ]
  }
 ],
 "metadata": {
  "kernelspec": {
   "display_name": "Python 3 (ipykernel)",
   "language": "python",
   "name": "python3"
  },
  "language_info": {
   "codemirror_mode": {
    "name": "ipython",
    "version": 3
   },
   "file_extension": ".py",
   "mimetype": "text/x-python",
   "name": "python",
   "nbconvert_exporter": "python",
   "pygments_lexer": "ipython3",
   "version": "3.9.13"
  }
 },
 "nbformat": 4,
 "nbformat_minor": 5
}
